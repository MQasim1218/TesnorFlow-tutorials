{
 "cells": [
  {
   "cell_type": "code",
   "execution_count": 62,
   "metadata": {},
   "outputs": [
    {
     "name": "stdout",
     "output_type": "stream",
     "text": [
      "2.6.0\n"
     ]
    }
   ],
   "source": [
    "import tensorflow as tf\n",
    "from tensorflow import keras\n",
    "\n",
    "print(tf.__version__)"
   ]
  },
  {
   "cell_type": "markdown",
   "metadata": {},
   "source": [
    "**Load MNIST dataset**"
   ]
  },
  {
   "cell_type": "code",
   "execution_count": 63,
   "metadata": {},
   "outputs": [],
   "source": [
    "data = tf.keras.datasets.mnist\n",
    "x = data.load_data()"
   ]
  },
  {
   "cell_type": "code",
   "execution_count": 64,
   "metadata": {},
   "outputs": [],
   "source": [
    "(xtrain, ytrain), (xtest, ytest) = x\n",
    "# xtrain is 60,000 images with dimensions (28 x 28)\n",
    "# ytrain are the label labels for the images\n",
    "xtrain.shape, ytrain.shape\n",
    "\n",
    "xtrain, xtest = xtrain / 255.0, xtest/255.0"
   ]
  },
  {
   "cell_type": "markdown",
   "metadata": {},
   "source": [
    "**Build a tf.keras.Sequential model by stacking layers**"
   ]
  },
  {
   "cell_type": "code",
   "execution_count": 65,
   "metadata": {},
   "outputs": [],
   "source": [
    "from tensorflow.keras.layers import Dense, Dropout, Flatten, Softmax\n",
    "\n",
    "model = keras.Sequential(\n",
    "    [\n",
    "        Flatten(input_shape=(28, 28)),\n",
    "        Dense(128),\n",
    "        Dropout(0.2),\n",
    "        Dense(10)\n",
    "    ], name= \"First-Model\"\n",
    ")\n"
   ]
  },
  {
   "cell_type": "code",
   "execution_count": 66,
   "metadata": {},
   "outputs": [
    {
     "name": "stdout",
     "output_type": "stream",
     "text": [
      "(1, 28, 28)\n",
      "(1, 28, 28)\n",
      "[[-0.32156578  0.17698082 -0.7749487   0.3551815   0.12387986  0.43281487\n",
      "   0.11988896 -0.39565453 -0.33650482  0.0501015 ]]\n"
     ]
    }
   ],
   "source": [
    "\n",
    "print(xtrain[0:1].shape)\n",
    "print(xtrain[:1].shape)\n",
    "\n",
    "ut_pr = model([xtrain[0:1]])\n",
    "\n",
    "# The output array is an ary of 'Logits'\n",
    "print(ut_pr.numpy())"
   ]
  },
  {
   "cell_type": "markdown",
   "metadata": {},
   "source": [
    "##### **LOGITS**\n",
    "**vector of raw (non-normalized) predictions that a classification model generates**, passed to a normalization function(typically tf.nn.softmax)\n",
    "\n",
    "**The tf.nn.softmax function converts these logits to probabilities for each class**"
   ]
  },
  {
   "cell_type": "code",
   "execution_count": 67,
   "metadata": {},
   "outputs": [
    {
     "data": {
      "text/plain": [
       "<tf.Tensor: shape=(1, 10), dtype=float32, numpy=\n",
       "array([[0.07217284, 0.11882007, 0.04586402, 0.14199772, 0.1126752 ,\n",
       "        0.15346068, 0.11222642, 0.06701892, 0.07110266, 0.10466146]],\n",
       "      dtype=float32)>"
      ]
     },
     "execution_count": 67,
     "metadata": {},
     "output_type": "execute_result"
    }
   ],
   "source": [
    "tf.nn.softmax(ut_pr.numpy())"
   ]
  },
  {
   "cell_type": "markdown",
   "metadata": {},
   "source": [
    "##### **Adding loss fn, Compiling and Summary**"
   ]
  },
  {
   "cell_type": "code",
   "execution_count": 68,
   "metadata": {},
   "outputs": [],
   "source": [
    "from keras import optimizers, losses \n",
    "\n",
    "lossfn = tf.keras.losses.SparseCategoricalCrossentropy(from_logits=True)\n",
    "lossfn(ytrain[:1], ut_pr).numpy()\n",
    "\n",
    "model.compile(\n",
    "    optimizer= 'adam',\n",
    "    loss= lossfn,\n",
    "    metrics= ['accuracy']\n",
    ")\n",
    "\n",
    "model.build()\n"
   ]
  },
  {
   "cell_type": "markdown",
   "metadata": {},
   "source": [
    "##### **Training**"
   ]
  },
  {
   "cell_type": "code",
   "execution_count": 69,
   "metadata": {},
   "outputs": [
    {
     "name": "stdout",
     "output_type": "stream",
     "text": [
      "Epoch 1/5\n",
      "1875/1875 [==============================] - 4s 2ms/step - loss: 0.3813 - accuracy: 0.8901\n",
      "Epoch 2/5\n",
      "1875/1875 [==============================] - 4s 2ms/step - loss: 0.3144 - accuracy: 0.9114\n",
      "Epoch 3/5\n",
      "1875/1875 [==============================] - 4s 2ms/step - loss: 0.3032 - accuracy: 0.9154\n",
      "Epoch 4/5\n",
      "1875/1875 [==============================] - 4s 2ms/step - loss: 0.2950 - accuracy: 0.9172\n",
      "Epoch 5/5\n",
      "1875/1875 [==============================] - 4s 2ms/step - loss: 0.2913 - accuracy: 0.9184\n"
     ]
    },
    {
     "name": "stderr",
     "output_type": "stream",
     "text": [
      "Exception ignored in: <function IteratorResourceDeleter.__del__ at 0x00000179FA75D790>\n",
      "Traceback (most recent call last):\n",
      "  File \"C:\\Users\\ahsan\\anaconda3\\envs\\OCR\\lib\\site-packages\\tensorflow\\python\\data\\ops\\iterator_ops.py\", line 545, in __del__\n",
      "    gen_dataset_ops.delete_iterator(\n",
      "  File \"C:\\Users\\ahsan\\anaconda3\\envs\\OCR\\lib\\site-packages\\tensorflow\\python\\ops\\gen_dataset_ops.py\", line 1262, in delete_iterator\n",
      "    _result = pywrap_tfe.TFE_Py_FastPathExecute(\n",
      "KeyboardInterrupt: \n"
     ]
    },
    {
     "name": "stdout",
     "output_type": "stream",
     "text": [
      "313/313 [==============================] - 1s 2ms/step - loss: 0.3022 - accuracy: 0.9159\n"
     ]
    },
    {
     "data": {
      "text/plain": [
       "[0.3022482097148895, 0.9158999919891357]"
      ]
     },
     "execution_count": 69,
     "metadata": {},
     "output_type": "execute_result"
    }
   ],
   "source": [
    "model.fit(xtrain, ytrain, epochs=5, batch_size=32, verbose=1)\n",
    "model.evaluate(xtest, ytest, batch_size=32)"
   ]
  },
  {
   "cell_type": "markdown",
   "metadata": {},
   "source": [
    "##### **Prediction Time**"
   ]
  },
  {
   "cell_type": "code",
   "execution_count": 82,
   "metadata": {},
   "outputs": [
    {
     "name": "stdout",
     "output_type": "stream",
     "text": [
      "tf.Tensor(0.99738485, shape=(), dtype=float32)\n",
      "tf.Tensor(0.9928181, shape=(), dtype=float32)\n",
      "tf.Tensor(0.98664284, shape=(), dtype=float32)\n",
      "tf.Tensor(0.9999721, shape=(), dtype=float32)\n",
      "tf.Tensor(0.9928824, shape=(), dtype=float32)\n",
      "tf.Tensor(0.9961494, shape=(), dtype=float32)\n",
      "tf.Tensor(0.9935603, shape=(), dtype=float32)\n",
      "tf.Tensor(0.8256558, shape=(), dtype=float32)\n",
      "tf.Tensor(0.99441445, shape=(), dtype=float32)\n",
      "tf.Tensor(0.94361246, shape=(), dtype=float32)\n"
     ]
    }
   ],
   "source": [
    "\n",
    "pr_model = keras.Sequential(\n",
    "    [\n",
    "        model, \n",
    "        Softmax()\n",
    "    ], name= 'Pridiction-model'\n",
    ")\n",
    "\n",
    "prs = pr_model(xtest[0:10]).numpy()\n",
    "\n",
    "# This shows that for each of the input tensors, \n",
    "# the model pridicts high probability for one of the classes.\n",
    "for i in prs:\n",
    "    print(tf.reduce_max(i))\n"
   ]
  }
 ],
 "metadata": {
  "interpreter": {
   "hash": "445be380edc556d8a8859931574c9be2b357dc49fbb96280944087ec4ff5e718"
  },
  "kernelspec": {
   "display_name": "Python 3.8.11 64-bit ('OCR': conda)",
   "language": "python",
   "name": "python3"
  },
  "language_info": {
   "codemirror_mode": {
    "name": "ipython",
    "version": 3
   },
   "file_extension": ".py",
   "mimetype": "text/x-python",
   "name": "python",
   "nbconvert_exporter": "python",
   "pygments_lexer": "ipython3",
   "version": "3.8.11"
  },
  "orig_nbformat": 4
 },
 "nbformat": 4,
 "nbformat_minor": 2
}
