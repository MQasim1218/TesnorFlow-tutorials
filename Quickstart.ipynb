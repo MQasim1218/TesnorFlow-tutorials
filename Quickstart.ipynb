{
 "cells": [
  {
   "cell_type": "code",
   "execution_count": 37,
   "metadata": {},
   "outputs": [
    {
     "name": "stdout",
     "output_type": "stream",
     "text": [
      "2.6.0\n"
     ]
    }
   ],
   "source": [
    "import tensorflow as tf\n",
    "from tensorflow import keras\n",
    "\n",
    "print(tf.__version__)"
   ]
  },
  {
   "cell_type": "markdown",
   "metadata": {},
   "source": [
    "**Load MNIST dataset**"
   ]
  },
  {
   "cell_type": "code",
   "execution_count": 38,
   "metadata": {},
   "outputs": [],
   "source": [
    "data = tf.keras.datasets.mnist\n",
    "x = data.load_data()"
   ]
  },
  {
   "cell_type": "code",
   "execution_count": 8,
   "metadata": {},
   "outputs": [],
   "source": [
    "(xtrain, ytrain), (xtest, ytest) = x\n",
    "# xtrain is 60,000 images with dimensions (28 x 28)\n",
    "# ytrain are the label labels for the images\n",
    "xtrain.shape, ytrain.shape\n",
    "\n",
    "xtrain, xtest = xtrain / 255.0, xtest/255.0"
   ]
  },
  {
   "cell_type": "markdown",
   "metadata": {},
   "source": [
    "**Build a tf.keras.Sequential model by stacking layers**"
   ]
  },
  {
   "cell_type": "code",
   "execution_count": 54,
   "metadata": {},
   "outputs": [],
   "source": [
    "from tensorflow.keras.layers import Dense, Dropout, Flatten\n",
    "\n",
    "model = keras.Sequential(\n",
    "    [\n",
    "        Flatten(input_shape=(28, 28)),\n",
    "        Dense(128),\n",
    "        Dropout(0.2),\n",
    "        Dense(10)\n",
    "    ], name= \"First-Model\"\n",
    ")\n"
   ]
  },
  {
   "cell_type": "code",
   "execution_count": null,
   "metadata": {},
   "outputs": [],
   "source": [
    "\n",
    "print(xtrain[0:1].shape)\n",
    "print(xtrain[:1].shape)\n",
    "\n",
    "ut_pr = model([xtrain[0:1]])\n",
    "\n",
    "# The output array is an ary of 'Logits'\n",
    "print(ut_pr.numpy())"
   ]
  },
  {
   "cell_type": "markdown",
   "metadata": {},
   "source": [
    "##### **LOGITS**\n",
    "**vector of raw (non-normalized) predictions that a classification model generates**, passed to a normalization function(typically tf.nn.softmax)\n",
    "\n",
    "**The tf.nn.softmax function converts these logits to probabilities for each class**"
   ]
  },
  {
   "cell_type": "code",
   "execution_count": 35,
   "metadata": {},
   "outputs": [
    {
     "data": {
      "text/plain": [
       "<tf.Tensor: shape=(1, 10), dtype=float32, numpy=\n",
       "array([[0.11993641, 0.01811036, 0.04775747, 0.11147215, 0.20157707,\n",
       "        0.11768109, 0.1428853 , 0.05624944, 0.08445621, 0.09987446]],\n",
       "      dtype=float32)>"
      ]
     },
     "execution_count": 35,
     "metadata": {},
     "output_type": "execute_result"
    }
   ],
   "source": [
    "tf.nn.softmax(ut_pr.numpy())"
   ]
  },
  {
   "cell_type": "markdown",
   "metadata": {},
   "source": [
    "##### **Adding loss fn, Compiling and Summary**"
   ]
  },
  {
   "cell_type": "code",
   "execution_count": 56,
   "metadata": {},
   "outputs": [],
   "source": [
    "from keras import optimizers, losses \n",
    "\n",
    "lossfn = tf.keras.losses.SparseCategoricalCrossentropy(from_logits=True)\n",
    "lossfn(ytrain[:1], ut_pr).numpy()\n",
    "\n",
    "model.compile(\n",
    "    optimizer= 'adam',\n",
    "    loss= lossfn,\n",
    "    metrics= ['accuracy']\n",
    ")\n",
    "\n",
    "model.build()\n"
   ]
  },
  {
   "cell_type": "markdown",
   "metadata": {},
   "source": [
    "##### **Training**"
   ]
  },
  {
   "cell_type": "code",
   "execution_count": 57,
   "metadata": {},
   "outputs": [
    {
     "name": "stdout",
     "output_type": "stream",
     "text": [
      "Epoch 1/5\n",
      "1875/1875 [==============================] - 7s 3ms/step - loss: 0.3831 - accuracy: 0.8899\n",
      "Epoch 2/5\n",
      "1875/1875 [==============================] - 5s 2ms/step - loss: 0.3142 - accuracy: 0.9119\n",
      "Epoch 3/5\n",
      "1875/1875 [==============================] - 5s 2ms/step - loss: 0.3025 - accuracy: 0.9155\n",
      "Epoch 4/5\n",
      "1875/1875 [==============================] - 4s 2ms/step - loss: 0.2963 - accuracy: 0.9159\n",
      "Epoch 5/5\n",
      "1875/1875 [==============================] - 5s 3ms/step - loss: 0.2941 - accuracy: 0.9188\n",
      "313/313 [==============================] - 1s 2ms/step - loss: 0.2778 - accuracy: 0.9249\n"
     ]
    },
    {
     "data": {
      "text/plain": [
       "[0.2777617871761322, 0.9248999953269958]"
      ]
     },
     "execution_count": 57,
     "metadata": {},
     "output_type": "execute_result"
    }
   ],
   "source": [
    "model.fit(xtrain, ytrain, epochs=5, batch_size=32, verbose=1)\n",
    "model.evaluate(xtest, ytest, batch_size=32)"
   ]
  }
 ],
 "metadata": {
  "interpreter": {
   "hash": "445be380edc556d8a8859931574c9be2b357dc49fbb96280944087ec4ff5e718"
  },
  "kernelspec": {
   "display_name": "Python 3.8.11 64-bit ('OCR': conda)",
   "language": "python",
   "name": "python3"
  },
  "language_info": {
   "codemirror_mode": {
    "name": "ipython",
    "version": 3
   },
   "file_extension": ".py",
   "mimetype": "text/x-python",
   "name": "python",
   "nbconvert_exporter": "python",
   "pygments_lexer": "ipython3",
   "version": "3.8.11"
  },
  "orig_nbformat": 4
 },
 "nbformat": 4,
 "nbformat_minor": 2
}
