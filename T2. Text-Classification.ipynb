{
 "cells": [
  {
   "cell_type": "markdown",
   "metadata": {},
   "source": [
    "### **Importing Libraries**"
   ]
  },
  {
   "cell_type": "code",
   "execution_count": 3,
   "metadata": {},
   "outputs": [],
   "source": [
    "# Std Libraries...\n",
    "import os\n",
    "import re\n",
    "import shutil\n",
    "import string\n",
    "\n",
    "# Data manipulation libraries...\n",
    "import matplotlib.pyplot as pl\n",
    "import numpy as np\n",
    "\n",
    "# Deep-Learning libraries\n",
    "import tensorflow as tf\n",
    "import tensorflow.keras as tfk\n",
    "from tensorflow.keras import layers as lyrs, optimizers as opts, losses\n"
   ]
  },
  {
   "cell_type": "markdown",
   "metadata": {},
   "source": [
    "### **Downloading Data**"
   ]
  },
  {
   "cell_type": "markdown",
   "metadata": {},
   "source": [
    "> **`Don't run this cell, it downloads data which is already done`**"
   ]
  },
  {
   "cell_type": "code",
   "execution_count": 4,
   "metadata": {},
   "outputs": [
    {
     "name": "stdout",
     "output_type": "stream",
     "text": [
      "['imdb.vocab', 'imdbEr.txt', 'README', 'test', 'train']\n"
     ]
    }
   ],
   "source": [
    "url = \"https://ai.stanford.edu/~amaas/data/sentiment/aclImdb_v1.tar.gz\"\n",
    "\n",
    "dataset = tf.keras.utils.get_file(\n",
    "    \"aclImdb_v1\", url,\n",
    "    untar=True, cache_dir='.',\n",
    "    cache_subdir=''\n",
    ")\n",
    "\n",
    "dataset_dir = os.path.join(os.path.dirname(dataset), 'aclImdb')\n",
    "print(os.listdir(dataset_dir))\n"
   ]
  },
  {
   "cell_type": "markdown",
   "metadata": {},
   "source": [
    "> #### **Checking a sample file**"
   ]
  },
  {
   "cell_type": "code",
   "execution_count": 5,
   "metadata": {},
   "outputs": [
    {
     "name": "stdout",
     "output_type": "stream",
     "text": [
      "['labeledBow.feat', 'neg', 'pos', 'unsup', 'unsupBow.feat', 'urls_neg.txt', 'urls_pos.txt', 'urls_unsup.txt']\n",
      "Rachel Griffiths writes and directs this award winning short film. A heartwarming story about coping with grief and cherishing the memory of those we've loved and lost. Although, only 15 minutes long, Griffiths manages to capture so much emotion and truth onto film in the short space of time. Bud Tingwell gives a touching performance as Will, a widower struggling to cope with his wife's death. Will is confronted by the harsh reality of loneliness and helplessness as he proceeds to take care of Ruth's pet cow, Tulip. The film displays the grief and responsibility one feels for those they have loved and lost. Good cinematography, great direction, and superbly acted. It will bring tears to all those who have lost a loved one, and survived.\n"
     ]
    }
   ],
   "source": [
    "train_dir = os.path.join(dataset_dir, 'train')\n",
    "print(os.listdir(train_dir))\n",
    "\n",
    "sample_file = os.path.join(train_dir, 'pos/1181_9.txt')\n",
    "with open(sample_file) as f:\n",
    "    print(f.read())\n",
    "    \n",
    "remove_dir = os.path.join(train_dir, 'unsup')\n",
    "shutil.rmtree(remove_dir)\n"
   ]
  },
  {
   "cell_type": "markdown",
   "metadata": {},
   "source": [
    "> **For data-preprocessing, it has to be passed onto library that expects a file structure like:**\n",
    "\n",
    "* main_directory/\n",
    "* ...class_a/\n",
    "* ......a_text_1.txt\n",
    "* ......a_text_2.txt\n",
    "* ...class_b/\n",
    "* ......b_text_1.txt\n",
    "* ......b_text_2.txt"
   ]
  },
  {
   "cell_type": "markdown",
   "metadata": {},
   "source": [
    "### **Loading Data For training**\n",
    "> ##### **Dividing train data into training and validation data using `text_dataset_from_directory`**"
   ]
  },
  {
   "cell_type": "code",
   "execution_count": 6,
   "metadata": {},
   "outputs": [
    {
     "name": "stdout",
     "output_type": "stream",
     "text": [
      "Found 25000 files belonging to 2 classes.\n",
      "Using 20000 files for training.\n"
     ]
    }
   ],
   "source": [
    "### FunctionParameters ###\n",
    "bs = 32\n",
    "s = 42\n",
    "\n",
    "# this is the trainig set...\n",
    "RawTrainDataset = tfk.utils.text_dataset_from_directory(\n",
    "    'aclImdb/train', batch_size=bs, seed=s,\n",
    "    validation_split=0.2, subset='training'\n",
    ")\n"
   ]
  },
  {
   "cell_type": "markdown",
   "metadata": {},
   "source": [
    "##### **Label `0` corresponds to `neg`**\n",
    "##### **Label `1` corresponds to `pos`**\n"
   ]
  },
  {
   "cell_type": "code",
   "execution_count": null,
   "metadata": {},
   "outputs": [],
   "source": [
    "# Looking into data\n",
    "\n",
    "for txt_b, lbl_b in RawTrainDataset.take(1):\n",
    "    print(f\"Review:: {txt_b.numpy()[7]}\")\n",
    "    print(f\"Label:: {lbl_b.numpy()[7]}\\n\\n\")\n"
   ]
  },
  {
   "cell_type": "code",
   "execution_count": 8,
   "metadata": {},
   "outputs": [
    {
     "name": "stdout",
     "output_type": "stream",
     "text": [
      "Found 25000 files belonging to 2 classes.\n",
      "Using 5000 files for validation.\n",
      "Found 25000 files belonging to 2 classes.\n"
     ]
    }
   ],
   "source": [
    "# this is the validation set...\n",
    "raw_val_ds = tfk.utils.text_dataset_from_directory(\n",
    "    'aclImdb/train',\n",
    "    batch_size=bs,\n",
    "    validation_split=0.2,\n",
    "    subset='validation',\n",
    "    seed=s)\n",
    "\n",
    "\n",
    "# getting ready the test set...\n",
    "raw_test_ds = tfk.utils.text_dataset_from_directory(\n",
    "    'aclImdb/test',\n",
    "    batch_size=bs,\n",
    ")\n"
   ]
  },
  {
   "cell_type": "markdown",
   "metadata": {},
   "source": [
    "### **Preparing Dataset for training**\n",
    "> **Next, you will standardize, tokenize, and vectorize the data using the helpful `tf.keras.layers.TextVectorization` layer.**\n",
    "\n",
    "* **`Standardization` refers to preprocessing the text, typically to remove punctuation or HTML elements to simplify the dataset**\n",
    "* **`Tokenization` refers to splitting strings into tokens (for example, splitting a sentence into individual words)**\n",
    "* **`Vectorization` refers to converting tokens into numbers so they can be fed into a neural network**\n"
   ]
  },
  {
   "cell_type": "markdown",
   "metadata": {},
   "source": [
    "> ##### **Defining a custom Standardization function**"
   ]
  },
  {
   "cell_type": "code",
   "execution_count": 9,
   "metadata": {},
   "outputs": [],
   "source": [
    "# Turns out, default standardization cannot remove <HTML/> tags, \n",
    "# thus we need to create our own simple one.\n",
    "\n",
    "def cstm_stdfn(data):\n",
    "    lc = tf.strings.lower(data)\n",
    "    # the operation below strinps out basic HTML\n",
    "    formatted = tf.strings.regex_replace(lc, '<br />', '')\n",
    "    return tf.strings.regex_replace(\n",
    "        formatted, '[%s]' % re.escape(string.punctuation), ''\n",
    "    )"
   ]
  },
  {
   "cell_type": "markdown",
   "metadata": {},
   "source": [
    "> ##### **Creating a text-vectorization layer**"
   ]
  },
  {
   "cell_type": "code",
   "execution_count": 10,
   "metadata": {},
   "outputs": [],
   "source": [
    "mx_fea = 10000 # dont know what for\n",
    "slen = 250 # truncate sequences to exact sequence length!!\n",
    "\n",
    "vec_layer = lyrs.TextVectorization(\n",
    "    standardize= cstm_stdfn,\n",
    "    max_tokens= mx_fea,\n",
    "    output_mode= 'int',\n",
    "    output_sequence_length= slen\n",
    ")"
   ]
  },
  {
   "cell_type": "markdown",
   "metadata": {},
   "source": [
    "> **Next, you will call adapt to fit the state of the preprocessing layer to the dataset. This will cause the model to build an index of strings to integers.**"
   ]
  },
  {
   "cell_type": "code",
   "execution_count": 11,
   "metadata": {},
   "outputs": [
    {
     "name": "stdout",
     "output_type": "stream",
     "text": [
      "<MapDataset shapes: (None,), types: tf.string>\n"
     ]
    }
   ],
   "source": [
    "train_text = RawTrainDataset.map(lambda x, y: x)\n",
    "print(train_text)\n",
    "vec_layer.adapt(train_text)\n"
   ]
  },
  {
   "cell_type": "code",
   "execution_count": 12,
   "metadata": {},
   "outputs": [
    {
     "name": "stdout",
     "output_type": "stream",
     "text": [
      "Printing out stuff!\n",
      "First Review:: b'Great movie - especially the music - Etta James - \"At Last\". This speaks volumes when you have finally found that special someone.'\n",
      "Label(encoding):: 0\n",
      "Sentiment:: neg\n",
      "Vectorized review (<tf.Tensor: shape=(1, 250), dtype=int64, numpy=\n",
      "array([[  84,   17,  257,    2,  222,    1,  573,   30,  228,   10, 2416,\n",
      "           1,   52,   23,   25,  427,  249,   12,  306,  279,    0,    0,\n",
      "           0,    0,    0,    0,    0,    0,    0,    0,    0,    0,    0,\n",
      "           0,    0,    0,    0,    0,    0,    0,    0,    0,    0,    0,\n",
      "           0,    0,    0,    0,    0,    0,    0,    0,    0,    0,    0,\n",
      "           0,    0,    0,    0,    0,    0,    0,    0,    0,    0,    0,\n",
      "           0,    0,    0,    0,    0,    0,    0,    0,    0,    0,    0,\n",
      "           0,    0,    0,    0,    0,    0,    0,    0,    0,    0,    0,\n",
      "           0,    0,    0,    0,    0,    0,    0,    0,    0,    0,    0,\n",
      "           0,    0,    0,    0,    0,    0,    0,    0,    0,    0,    0,\n",
      "           0,    0,    0,    0,    0,    0,    0,    0,    0,    0,    0,\n",
      "           0,    0,    0,    0,    0,    0,    0,    0,    0,    0,    0,\n",
      "           0,    0,    0,    0,    0,    0,    0,    0,    0,    0,    0,\n",
      "           0,    0,    0,    0,    0,    0,    0,    0,    0,    0,    0,\n",
      "           0,    0,    0,    0,    0,    0,    0,    0,    0,    0,    0,\n",
      "           0,    0,    0,    0,    0,    0,    0,    0,    0,    0,    0,\n",
      "           0,    0,    0,    0,    0,    0,    0,    0,    0,    0,    0,\n",
      "           0,    0,    0,    0,    0,    0,    0,    0,    0,    0,    0,\n",
      "           0,    0,    0,    0,    0,    0,    0,    0,    0,    0,    0,\n",
      "           0,    0,    0,    0,    0,    0,    0,    0,    0,    0,    0,\n",
      "           0,    0,    0,    0,    0,    0,    0,    0,    0,    0,    0,\n",
      "           0,    0,    0,    0,    0,    0,    0,    0,    0,    0,    0,\n",
      "           0,    0,    0,    0,    0,    0,    0,    0]], dtype=int64)>, <tf.Tensor: shape=(), dtype=int32, numpy=0>)\n"
     ]
    }
   ],
   "source": [
    "\n",
    "# Testing the above layer with sample data to get insight on text pre-processing results!!\n",
    "\n",
    "def vectorize(text, label):\n",
    "    text = tf.expand_dims(input= text,axis= -1)\n",
    "    return vec_layer(text), label\n",
    "\n",
    "# Retrieving a batch (of 32 reviews and labels) from the dataset\n",
    "(txt_b, lbl_b) = next(iter(RawTrainDataset))\n",
    "first_txt, first_lbl = txt_b[0], lbl_b[0]\n",
    "print(\"Printing out stuff!\")\n",
    "print(f\"First Review:: {first_txt}\")\n",
    "print(f\"Label(encoding):: {first_lbl}\")\n",
    "print(f\"Sentiment:: {RawTrainDataset.class_names[first_lbl]}\")\n",
    "print(\"Vectorized review\", vectorize(first_txt, first_lbl))\n"
   ]
  },
  {
   "cell_type": "markdown",
   "metadata": {},
   "source": [
    "> **You can lookup the token (string) that each integer corresponds to by calling `.get_vocabulary()` on the layer.**"
   ]
  },
  {
   "cell_type": "code",
   "execution_count": 13,
   "metadata": {},
   "outputs": [
    {
     "name": "stdout",
     "output_type": "stream",
     "text": [
      "25 ==> tough\n",
      "2416 ==> speaks\n",
      "10 ==> this\n"
     ]
    }
   ],
   "source": [
    "print(f\"25 ==> {vec_layer.get_vocabulary()[1213]}\")\n",
    "print(f\"2416 ==> {vec_layer.get_vocabulary()[2416]}\")\n",
    "print(f\"10 ==> {vec_layer.get_vocabulary()[10]}\")\n"
   ]
  },
  {
   "cell_type": "markdown",
   "metadata": {},
   "source": [
    "> **Applying the TextVectorization layer (created earlier) to the datasets (train, validation, and test)**"
   ]
  },
  {
   "cell_type": "code",
   "execution_count": 14,
   "metadata": {},
   "outputs": [
    {
     "name": "stdout",
     "output_type": "stream",
     "text": [
      "<MapDataset shapes: ((None, 250), (None,)), types: (tf.int64, tf.int32)>\n"
     ]
    }
   ],
   "source": [
    "train_ds = RawTrainDataset.map(vectorize)\n",
    "val_ds = raw_val_ds.map(vectorize) \n",
    "test_ds = raw_test_ds.map(vectorize)\n",
    "\n",
    "print(train_ds)"
   ]
  },
  {
   "cell_type": "markdown",
   "metadata": {},
   "source": [
    "### **Configure Dataset for performance**"
   ]
  },
  {
   "cell_type": "code",
   "execution_count": 15,
   "metadata": {},
   "outputs": [],
   "source": [
    "AT = tf.data.AUTOTUNE\n",
    "\n",
    "train_ds = train_ds.cache().prefetch(buffer_size=AT)\n",
    "val_ds = val_ds.cache().prefetch(buffer_size=AT)\n",
    "test_ds = test_ds.cache().prefetch(buffer_size=AT)\n"
   ]
  },
  {
   "cell_type": "markdown",
   "metadata": {},
   "source": [
    "### **Create a Model**\n"
   ]
  },
  {
   "cell_type": "markdown",
   "metadata": {},
   "source": [
    "> **The layers are stacked sequentially to build the classifier:**\n",
    "\n",
    "* **The first layer is an Embedding layer. This layer takes the integer-encoded reviews and looks up an embedding vector for each word-index. These vectors are learned as the model trains. The vectors add a dimension to the output array. The resulting dimensions are: (batch, sequence, embedding). To learn more about embeddings, see the word embedding tutorial.**\n",
    "\n",
    "* **Next, a GlobalAveragePooling1D layer returns a fixed-length output vector for each example by averaging over the sequence dimension. This allows the model to handle input of variable length, in the simplest way possible.**\n",
    "\n",
    "* **This fixed-length output vector is piped through a fully-connected (Dense) layer with 16 hidden units. The last layer is densely connected with a single output node.**"
   ]
  },
  {
   "cell_type": "code",
   "execution_count": 16,
   "metadata": {},
   "outputs": [
    {
     "name": "stdout",
     "output_type": "stream",
     "text": [
      "Model: \"sequential\"\n",
      "_________________________________________________________________\n",
      "Layer (type)                 Output Shape              Param #   \n",
      "=================================================================\n",
      "embedding (Embedding)        (None, None, 16)          160016    \n",
      "_________________________________________________________________\n",
      "dropout (Dropout)            (None, None, 16)          0         \n",
      "_________________________________________________________________\n",
      "global_average_pooling1d (Gl (None, 16)                0         \n",
      "_________________________________________________________________\n",
      "dropout_1 (Dropout)          (None, 16)                0         \n",
      "_________________________________________________________________\n",
      "dense (Dense)                (None, 1)                 17        \n",
      "=================================================================\n",
      "Total params: 160,033\n",
      "Trainable params: 160,033\n",
      "Non-trainable params: 0\n",
      "_________________________________________________________________\n"
     ]
    }
   ],
   "source": [
    "emb_dim = 16\n",
    "\n",
    "model = tfk.Sequential([\n",
    "    lyrs.Embedding(mx_fea + 1, emb_dim),\n",
    "    lyrs.Dropout(0.2),\n",
    "    lyrs.GlobalAveragePooling1D(),\n",
    "    lyrs.Dropout(0.2),\n",
    "    lyrs.Dense(1)\n",
    "])\n",
    "\n",
    "model.summary()"
   ]
  },
  {
   "cell_type": "markdown",
   "metadata": {},
   "source": [
    "#### **Loss function and optimizer**\n",
    "#### **Model training and evaluation**"
   ]
  },
  {
   "cell_type": "code",
   "execution_count": 17,
   "metadata": {},
   "outputs": [
    {
     "name": "stdout",
     "output_type": "stream",
     "text": [
      "Epoch 1/10\n",
      "625/625 [==============================] - 29s 42ms/step - loss: 0.6148 - binary_accuracy: 0.7204 - val_loss: 0.5038 - val_binary_accuracy: 0.8180\n",
      "Epoch 2/10\n",
      "625/625 [==============================] - 4s 6ms/step - loss: 0.4195 - binary_accuracy: 0.8472 - val_loss: 0.3776 - val_binary_accuracy: 0.8582\n",
      "Epoch 3/10\n",
      "625/625 [==============================] - 4s 6ms/step - loss: 0.3297 - binary_accuracy: 0.8781 - val_loss: 0.3313 - val_binary_accuracy: 0.8690\n",
      "Epoch 4/10\n",
      "625/625 [==============================] - 4s 6ms/step - loss: 0.2818 - binary_accuracy: 0.8954 - val_loss: 0.3093 - val_binary_accuracy: 0.8740\n",
      "Epoch 5/10\n",
      "625/625 [==============================] - 4s 6ms/step - loss: 0.2509 - binary_accuracy: 0.9065 - val_loss: 0.2982 - val_binary_accuracy: 0.8786\n",
      "Epoch 6/10\n",
      "625/625 [==============================] - 5s 9ms/step - loss: 0.2258 - binary_accuracy: 0.9177 - val_loss: 0.2931 - val_binary_accuracy: 0.8816\n",
      "Epoch 7/10\n",
      "625/625 [==============================] - 6s 10ms/step - loss: 0.2070 - binary_accuracy: 0.9247 - val_loss: 0.2915 - val_binary_accuracy: 0.8802\n",
      "Epoch 8/10\n",
      "625/625 [==============================] - 5s 8ms/step - loss: 0.1903 - binary_accuracy: 0.9327 - val_loss: 0.2929 - val_binary_accuracy: 0.8810\n",
      "Epoch 9/10\n",
      "625/625 [==============================] - 5s 8ms/step - loss: 0.1748 - binary_accuracy: 0.9395 - val_loss: 0.2965 - val_binary_accuracy: 0.8810\n",
      "Epoch 10/10\n",
      "625/625 [==============================] - 5s 9ms/step - loss: 0.1616 - binary_accuracy: 0.9446 - val_loss: 0.3016 - val_binary_accuracy: 0.8826\n",
      "782/782 [==============================] - 176s 223ms/step - loss: 0.3340 - binary_accuracy: 0.8663\n",
      "Model loss is 0.3340158462524414\n",
      "Accuracy is 0.866320013999939\n"
     ]
    }
   ],
   "source": [
    "model.compile(\n",
    "    optimizer= opts.Adam(learning_rate=0.002),\n",
    "    loss= losses.BinaryCrossentropy(from_logits=True),\n",
    "    metrics= tf.metrics.BinaryAccuracy(threshold=0.0)\n",
    ")\n",
    "\n",
    "hist = model.fit(\n",
    "    train_ds,\n",
    "    validation_data=val_ds,\n",
    "    epochs= 10,\n",
    "    callbacks=[tfk.callbacks.EarlyStopping(monitor='val_loss')],\n",
    "    verbose=1\n",
    ")\n",
    "\n",
    "loss, acc = model.evaluate(\n",
    "    test_ds,\n",
    "    verbose=1\n",
    ")\n",
    "\n",
    "print(\"Model loss is\", loss)\n",
    "print(\"Accuracy is\", acc)"
   ]
  },
  {
   "cell_type": "markdown",
   "metadata": {},
   "source": [
    "### **Plot Model parameters with time(loss, accuracy)**"
   ]
  },
  {
   "cell_type": "code",
   "execution_count": 25,
   "metadata": {},
   "outputs": [
    {
     "name": "stdout",
     "output_type": "stream",
     "text": [
      "dict_keys(['loss', 'binary_accuracy', 'val_loss', 'val_binary_accuracy'])\n",
      "0\n"
     ]
    }
   ],
   "source": [
    "# Preparing data for plot \n",
    "# Model.fit returns a snapshot of teh trained model, saved in variable `hist`\n",
    "# hist.history [\n",
    "    # training_accuracy, training_loss, \n",
    "    # validation_accuracy, validation_loss\n",
    "# ]\n",
    "\n",
    "hist_dict = hist.history\n",
    "print(hist_dict.keys())\n",
    "\n",
    "tr_acc = hist_dict['binary_accuracy']\n",
    "tr_loss = hist_dict['loss']\n",
    "\n",
    "val_acc = hist_dict['val_binary_accuracy']\n",
    "val_loss = hist_dict['val_loss']\n",
    "\n",
    "print(np.argmax(val_loss))\n"
   ]
  },
  {
   "cell_type": "markdown",
   "metadata": {},
   "source": [
    "> #### **Plotting the `Loss against training`** "
   ]
  },
  {
   "cell_type": "code",
   "execution_count": 30,
   "metadata": {},
   "outputs": [
    {
     "data": {
      "image/png": "[encoded data removed]",
      "text/plain": [
       "<Figure size 432x288 with 1 Axes>"
      ]
     },
     "metadata": {
      "needs_background": "light"
     },
     "output_type": "display_data"
    }
   ],
   "source": [
    "count = range(1,len(tr_acc) + 1)\n",
    "pl.plot(count, tr_loss,'bo', label= 'Training-loss') # 'bo' is for blue dot\n",
    "pl.plot(count, val_loss, 'b', label= 'Validation-loss') # 'b is for solid-blue line'\n",
    "\n",
    "pl.title('Train/Validation Loss')\n",
    "pl.xlabel('Epochs')\n",
    "pl.ylabel('loss')\n",
    "pl.legend()\n",
    "pl.show()\n"
   ]
  },
  {
   "cell_type": "markdown",
   "metadata": {},
   "source": [
    "> #### **Plotting `accuracy against training`** "
   ]
  },
  {
   "cell_type": "code",
   "execution_count": 32,
   "metadata": {},
   "outputs": [
    {
     "data": {
      "image/png": "[encoded data removed]",
      "text/plain": [
       "<Figure size 432x288 with 1 Axes>"
      ]
     },
     "metadata": {
      "needs_background": "light"
     },
     "output_type": "display_data"
    }
   ],
   "source": [
    "pl.plot(count, tr_acc, 'ro', label= 'Training')\n",
    "pl.plot(count, val_acc, 'r', label= 'Validation')\n",
    "\n",
    "pl.title('Train/Validation accuracy')\n",
    "pl.xlabel('Epochs')\n",
    "pl.ylabel('Accuracy')\n",
    "pl.legend()\n",
    "pl.show()"
   ]
  },
  {
   "cell_type": "markdown",
   "metadata": {},
   "source": [
    "### **Export Model and Interface on new data** \n",
    "> **Wrap the Model into another Model, containing TextVectorization layer(since we normally pass vectorized data into the model, not the raw strings.)**"
   ]
  },
  {
   "cell_type": "code",
   "execution_count": 36,
   "metadata": {},
   "outputs": [
    {
     "name": "stderr",
     "output_type": "stream",
     "text": [
      "C:\\Users\\ahsan\\anaconda3\\envs\\OCR\\lib\\site-packages\\keras\\optimizer_v2\\optimizer_v2.py:355: UserWarning: The `lr` argument is deprecated, use `learning_rate` instead.\n",
      "  warnings.warn(\n"
     ]
    },
    {
     "name": "stdout",
     "output_type": "stream",
     "text": [
      "782/782 - 13s - loss: 0.3340 - accuracy: 0.8663\n",
      "The Final loss of the model is 0.3340160548686981\n",
      "The Final accuracy of the model is 0.866320013999939\n"
     ]
    }
   ],
   "source": [
    "exp_model = tfk.Sequential([\n",
    "    vec_layer,\n",
    "    model,\n",
    "    lyrs.Activation('sigmoid')\n",
    "])\n",
    "\n",
    "exp_model.compile(\n",
    "    optimizer= opts.Adam(lr= 0.002),\n",
    "    loss= losses.BinaryCrossentropy(from_logits= False),\n",
    "    metrics= ['accuracy']\n",
    ")\n",
    "\n",
    "f_loss, f_acc =  exp_model.evaluate(\n",
    "    raw_test_ds,\n",
    "    verbose=2\n",
    ")\n",
    "\n",
    "print(f\"The Final loss of the model is {f_loss}\")\n",
    "print(f\"The Final accuracy of the model is {f_acc}\")"
   ]
  },
  {
   "cell_type": "markdown",
   "metadata": {},
   "source": [
    "> #### **Testing the Model on self-generated data**"
   ]
  },
  {
   "cell_type": "code",
   "execution_count": 51,
   "metadata": {},
   "outputs": [
    {
     "name": "stdout",
     "output_type": "stream",
     "text": [
      "[[0.5526544 ]\n",
      " [0.69766414]\n",
      " [0.11089897]]\n"
     ]
    }
   ],
   "source": [
    "sents = [\n",
    "    'The accuracy of the model is very low',\n",
    "    'Loved all the scenes, will watch again with friends',\n",
    "    'Horrible potrayal of the novel characters. The director hardly put any effort to match the novel, disgusted'\n",
    "]\n",
    "\n",
    "pr = exp_model.predict(sents)\n",
    "print(pr)"
   ]
  },
  {
   "cell_type": "markdown",
   "metadata": {},
   "source": [
    "### **I have finished the Notebook.. My firstever attempt with natural language processing.(Although many things are unclear)**\n",
    "\n",
    "##### **`Things Learn't in this Notebook`**\n",
    "* **Text Processing:: String => TextVectorization => EmbeddingsLayer => NeuralNetwork**\n",
    "* **Keep TextVectorization Layer Out of the Core Model When Training(for better performance).**\n",
    "* **Wrap up the core model along with TextVectorization layer to enable the final model to make direct pridictions on strings**\n"
   ]
  }
 ],
 "metadata": {
  "interpreter": {
   "hash": "445be380edc556d8a8859931574c9be2b357dc49fbb96280944087ec4ff5e718"
  },
  "kernelspec": {
   "display_name": "Python 3.8.11 64-bit ('OCR': conda)",
   "language": "python",
   "name": "python3"
  },
  "language_info": {
   "codemirror_mode": {
    "name": "ipython",
    "version": 3
   },
   "file_extension": ".py",
   "mimetype": "text/x-python",
   "name": "python",
   "nbconvert_exporter": "python",
   "pygments_lexer": "ipython3",
   "version": "3.8.11"
  },
  "orig_nbformat": 4
 },
 "nbformat": 4,
 "nbformat_minor": 2
}
